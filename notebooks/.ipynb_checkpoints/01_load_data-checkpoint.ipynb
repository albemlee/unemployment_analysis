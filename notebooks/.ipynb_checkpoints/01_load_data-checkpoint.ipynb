{
 "cells": [
  {
   "cell_type": "markdown",
   "metadata": {},
   "source": [
    "# Import Libraries"
   ]
  },
  {
   "cell_type": "code",
   "execution_count": 1,
   "metadata": {},
   "outputs": [],
   "source": [
    "import pandas as pd\n",
    "import numpy as np"
   ]
  },
  {
   "cell_type": "markdown",
   "metadata": {},
   "source": [
    "# Load Data"
   ]
  },
  {
   "cell_type": "markdown",
   "metadata": {},
   "source": [
    "The I used for this project is managed by the National Center for Health Statistics (NCHS) and the Bureau of Labor Statistics (BLS). The table below displays the sources, datasets, and columns in the data.\n",
    "\n",
    "<img src=\"../images/raw_data_summary.png\">\n",
    "\n",
    "Each dataset was loaded from a csv file (stored in the raw_data directory) into a dataframe. Then, the columns were renamed, and dates were converted to date_time. The new column names are displayd in the table below.\n",
    "\n",
    "<img src=\"../images/column_names.png\">\n",
    "\n",
    "As a sanity check, I displayed the record for the minimum and maximum of each column in every dataframe. The figure below displays a summary of the process I used to load the data.\n",
    "\n",
    "\n",
    "<img src=\"../images/load_data_process.png\">\n"
   ]
  },
  {
   "cell_type": "markdown",
   "metadata": {},
   "source": [
    "### Unemployment Data"
   ]
  },
  {
   "cell_type": "markdown",
   "metadata": {},
   "source": [
    "[Here](https://fred.stlouisfed.org/series/UNRATE/) is the link to the CSV file for the BLS Unemployment data."
   ]
  },
  {
   "cell_type": "code",
   "execution_count": 2,
   "metadata": {},
   "outputs": [],
   "source": [
    "# Load unemployement data into DataFrame (unemployement_df)\n",
    "unemployment_df = pd.read_csv('../raw_data/UNRATE.csv')\n",
    "\n",
    "# Rename columns\n",
    "unemployment_df.rename({\n",
    "    'DATE': 'date',\n",
    "    'UNRATE': 'unemployment_rate'\n",
    "}, axis='columns', inplace=True)\n",
    "\n",
    "# Convert date from string to datetime\n",
    "unemployment_df['date'] = pd.to_datetime(unemployment_df['date'])"
   ]
  },
  {
   "cell_type": "code",
   "execution_count": 3,
   "metadata": {},
   "outputs": [
    {
     "name": "stdout",
     "output_type": "stream",
     "text": [
      "<class 'pandas.core.frame.DataFrame'>\n",
      "RangeIndex: 851 entries, 0 to 850\n",
      "Data columns (total 2 columns):\n",
      "date                 851 non-null datetime64[ns]\n",
      "unemployment_rate    851 non-null float64\n",
      "dtypes: datetime64[ns](1), float64(1)\n",
      "memory usage: 13.4 KB\n"
     ]
    }
   ],
   "source": [
    "# Display info\n",
    "unemployment_df.info()"
   ]
  },
  {
   "cell_type": "code",
   "execution_count": 4,
   "metadata": {},
   "outputs": [
    {
     "data": {
      "text/html": [
       "<div>\n",
       "<style scoped>\n",
       "    .dataframe tbody tr th:only-of-type {\n",
       "        vertical-align: middle;\n",
       "    }\n",
       "\n",
       "    .dataframe tbody tr th {\n",
       "        vertical-align: top;\n",
       "    }\n",
       "\n",
       "    .dataframe thead th {\n",
       "        text-align: right;\n",
       "    }\n",
       "</style>\n",
       "<table border=\"1\" class=\"dataframe\">\n",
       "  <thead>\n",
       "    <tr style=\"text-align: right;\">\n",
       "      <th></th>\n",
       "      <th>date</th>\n",
       "      <th>unemployment_rate</th>\n",
       "    </tr>\n",
       "  </thead>\n",
       "  <tbody>\n",
       "    <tr>\n",
       "      <th>0</th>\n",
       "      <td>1948-01-01</td>\n",
       "      <td>3.4</td>\n",
       "    </tr>\n",
       "    <tr>\n",
       "      <th>1</th>\n",
       "      <td>1948-02-01</td>\n",
       "      <td>3.8</td>\n",
       "    </tr>\n",
       "    <tr>\n",
       "      <th>2</th>\n",
       "      <td>1948-03-01</td>\n",
       "      <td>4.0</td>\n",
       "    </tr>\n",
       "    <tr>\n",
       "      <th>3</th>\n",
       "      <td>1948-04-01</td>\n",
       "      <td>3.9</td>\n",
       "    </tr>\n",
       "    <tr>\n",
       "      <th>4</th>\n",
       "      <td>1948-05-01</td>\n",
       "      <td>3.5</td>\n",
       "    </tr>\n",
       "  </tbody>\n",
       "</table>\n",
       "</div>"
      ],
      "text/plain": [
       "        date  unemployment_rate\n",
       "0 1948-01-01                3.4\n",
       "1 1948-02-01                3.8\n",
       "2 1948-03-01                4.0\n",
       "3 1948-04-01                3.9\n",
       "4 1948-05-01                3.5"
      ]
     },
     "execution_count": 4,
     "metadata": {},
     "output_type": "execute_result"
    }
   ],
   "source": [
    "# Display top 5 rows\n",
    "unemployment_df.head()"
   ]
  },
  {
   "cell_type": "code",
   "execution_count": 5,
   "metadata": {},
   "outputs": [
    {
     "name": "stdout",
     "output_type": "stream",
     "text": [
      "Start Date: [Timestamp('1948-01-01 00:00:00') 3.4]\n",
      "End Date  : [Timestamp('2018-11-01 00:00:00') 3.7]\n"
     ]
    }
   ],
   "source": [
    "# Display date range\n",
    "print('Start Date:', unemployment_df.iloc[0].values)\n",
    "print('End Date  :', unemployment_df.iloc[-1].values)"
   ]
  },
  {
   "cell_type": "code",
   "execution_count": 6,
   "metadata": {},
   "outputs": [
    {
     "name": "stdout",
     "output_type": "stream",
     "text": [
      "Lowest Unemployment : [Timestamp('1953-05-01 00:00:00') 2.5]\n",
      "Highest Unemployment: [Timestamp('1982-11-01 00:00:00') 10.8]\n"
     ]
    }
   ],
   "source": [
    "# Display unemployment_rate range\n",
    "print('Lowest Unemployment :', unemployment_df.iloc[unemployment_df['unemployment_rate'].idxmin()].values)\n",
    "print('Highest Unemployment:', unemployment_df.iloc[unemployment_df['unemployment_rate'].idxmax()].values)"
   ]
  },
  {
   "cell_type": "markdown",
   "metadata": {},
   "source": [
    "### Birth Data"
   ]
  },
  {
   "cell_type": "markdown",
   "metadata": {},
   "source": [
    "[Here](https://data.cdc.gov/NCHS/NCHS-Births-and-General-Fertility-Rates-United-Sta/e6fc-ccez) is the link to the CSV file for the NCHS Birth data."
   ]
  },
  {
   "cell_type": "code",
   "execution_count": 7,
   "metadata": {},
   "outputs": [],
   "source": [
    "# Load birth data into DataFrame\n",
    "birth_df = pd.read_csv('../raw_data/NCHS_-_Births_and_General_Fertility_Rates__United_States.csv')\n",
    "\n",
    "# Rename columns\n",
    "birth_df.rename({\n",
    "    'Year': 'year',\n",
    "    'Birth Number': 'number_of_births',\n",
    "    'General Fertility Rate': 'general_fertility_rate',\n",
    "    'Crude Birth Rate': 'crude_birth_rate',\n",
    "}, axis='columns', inplace=True)\n",
    "\n",
    "# Convert year from string to datetime\n",
    "birth_df['year'] = pd.to_datetime(birth_df['year'], format='%Y').dt.year"
   ]
  },
  {
   "cell_type": "code",
   "execution_count": 8,
   "metadata": {},
   "outputs": [
    {
     "name": "stdout",
     "output_type": "stream",
     "text": [
      "<class 'pandas.core.frame.DataFrame'>\n",
      "RangeIndex: 107 entries, 0 to 106\n",
      "Data columns (total 4 columns):\n",
      "year                      107 non-null int64\n",
      "number_of_births          107 non-null int64\n",
      "general_fertility_rate    107 non-null float64\n",
      "crude_birth_rate          107 non-null float64\n",
      "dtypes: float64(2), int64(2)\n",
      "memory usage: 3.4 KB\n"
     ]
    }
   ],
   "source": [
    "# Display info\n",
    "birth_df.info()"
   ]
  },
  {
   "cell_type": "code",
   "execution_count": 9,
   "metadata": {},
   "outputs": [
    {
     "data": {
      "text/html": [
       "<div>\n",
       "<style scoped>\n",
       "    .dataframe tbody tr th:only-of-type {\n",
       "        vertical-align: middle;\n",
       "    }\n",
       "\n",
       "    .dataframe tbody tr th {\n",
       "        vertical-align: top;\n",
       "    }\n",
       "\n",
       "    .dataframe thead th {\n",
       "        text-align: right;\n",
       "    }\n",
       "</style>\n",
       "<table border=\"1\" class=\"dataframe\">\n",
       "  <thead>\n",
       "    <tr style=\"text-align: right;\">\n",
       "      <th></th>\n",
       "      <th>year</th>\n",
       "      <th>number_of_births</th>\n",
       "      <th>general_fertility_rate</th>\n",
       "      <th>crude_birth_rate</th>\n",
       "    </tr>\n",
       "  </thead>\n",
       "  <tbody>\n",
       "    <tr>\n",
       "      <th>0</th>\n",
       "      <td>2015</td>\n",
       "      <td>3978497</td>\n",
       "      <td>62.5</td>\n",
       "      <td>12.4</td>\n",
       "    </tr>\n",
       "    <tr>\n",
       "      <th>1</th>\n",
       "      <td>2014</td>\n",
       "      <td>3988076</td>\n",
       "      <td>62.9</td>\n",
       "      <td>12.5</td>\n",
       "    </tr>\n",
       "    <tr>\n",
       "      <th>2</th>\n",
       "      <td>2013</td>\n",
       "      <td>3932181</td>\n",
       "      <td>62.5</td>\n",
       "      <td>12.4</td>\n",
       "    </tr>\n",
       "    <tr>\n",
       "      <th>3</th>\n",
       "      <td>2012</td>\n",
       "      <td>3952841</td>\n",
       "      <td>63.0</td>\n",
       "      <td>12.6</td>\n",
       "    </tr>\n",
       "    <tr>\n",
       "      <th>4</th>\n",
       "      <td>2011</td>\n",
       "      <td>3953590</td>\n",
       "      <td>63.2</td>\n",
       "      <td>12.7</td>\n",
       "    </tr>\n",
       "  </tbody>\n",
       "</table>\n",
       "</div>"
      ],
      "text/plain": [
       "   year  number_of_births  general_fertility_rate  crude_birth_rate\n",
       "0  2015           3978497                    62.5              12.4\n",
       "1  2014           3988076                    62.9              12.5\n",
       "2  2013           3932181                    62.5              12.4\n",
       "3  2012           3952841                    63.0              12.6\n",
       "4  2011           3953590                    63.2              12.7"
      ]
     },
     "execution_count": 9,
     "metadata": {},
     "output_type": "execute_result"
    }
   ],
   "source": [
    "# Display top 5 rows\n",
    "birth_df.head()"
   ]
  },
  {
   "cell_type": "code",
   "execution_count": 10,
   "metadata": {},
   "outputs": [
    {
     "name": "stdout",
     "output_type": "stream",
     "text": [
      "Start Date: [1.909e+03 2.718e+06 1.268e+02 3.000e+01]\n",
      "End Date  : [2.015000e+03 3.978497e+06 6.250000e+01 1.240000e+01]\n"
     ]
    }
   ],
   "source": [
    "# Display date range\n",
    "print('Start Date:', birth_df.iloc[-1].values)\n",
    "print('End Date  :', birth_df.iloc[0].values)"
   ]
  },
  {
   "cell_type": "code",
   "execution_count": 11,
   "metadata": {},
   "outputs": [
    {
     "name": "stdout",
     "output_type": "stream",
     "text": [
      "Lowest Number of Births : [1.933e+03 2.307e+06 7.630e+01 1.840e+01]\n",
      "Highest Number of Births: [2.007000e+03 4.316233e+06 6.930000e+01 1.430000e+01]\n"
     ]
    }
   ],
   "source": [
    "# Display number_of_births range\n",
    "print('Lowest Number of Births :', birth_df.iloc[birth_df['number_of_births'].idxmin()].values)\n",
    "print('Highest Number of Births:', birth_df.iloc[birth_df['number_of_births'].idxmax()].values)"
   ]
  },
  {
   "cell_type": "code",
   "execution_count": 12,
   "metadata": {},
   "outputs": [
    {
     "name": "stdout",
     "output_type": "stream",
     "text": [
      "Lowest General Fertility Rate : [2.015000e+03 3.978497e+06 6.250000e+01 1.240000e+01]\n",
      "Highest General Fertility Rate: [1.910e+03 2.777e+06 1.268e+02 3.010e+01]\n"
     ]
    }
   ],
   "source": [
    "# Display general_fertility_rate range\n",
    "print('Lowest General Fertility Rate :', birth_df.iloc[birth_df['general_fertility_rate'].idxmin()].values)\n",
    "print('Highest General Fertility Rate:', birth_df.iloc[birth_df['general_fertility_rate'].idxmax()].values)"
   ]
  },
  {
   "cell_type": "code",
   "execution_count": 13,
   "metadata": {},
   "outputs": [
    {
     "name": "stdout",
     "output_type": "stream",
     "text": [
      "Lowest Crude Birth Rate : [2.015000e+03 3.978497e+06 6.250000e+01 1.240000e+01]\n",
      "Highest Crude Birth Rate: [1.910e+03 2.777e+06 1.268e+02 3.010e+01]\n"
     ]
    }
   ],
   "source": [
    "# Display crude_birth_rate range\n",
    "print('Lowest Crude Birth Rate :', birth_df.iloc[birth_df['crude_birth_rate'].idxmin()].values)\n",
    "print('Highest Crude Birth Rate:', birth_df.iloc[birth_df['crude_birth_rate'].idxmax()].values)"
   ]
  },
  {
   "cell_type": "markdown",
   "metadata": {},
   "source": [
    "### Childhood Mortality Data"
   ]
  },
  {
   "cell_type": "markdown",
   "metadata": {},
   "source": [
    "[Here](https://catalog.data.gov/dataset/childhood-mortality-rates-by-age-at-death-united-states-1900-2013 ) is the link to the CSV file for the NCHS Birth data."
   ]
  },
  {
   "cell_type": "code",
   "execution_count": 14,
   "metadata": {},
   "outputs": [],
   "source": [
    "# Load childhood mortality data into DataFrame (mortality_df)\n",
    "mortality_df = pd.read_csv('../raw_data/NCHS_-_Childhood_Mortality_Rates.csv')\n",
    "\n",
    "# Rename columns\n",
    "mortality_df.rename({\n",
    "    'Year': 'year',\n",
    "    'Age Group': 'age_group',\n",
    "    'Death Rate': 'death_rate'\n",
    "}, axis='columns', inplace=True)\n",
    "\n",
    "# Convert year from string to datetime\n",
    "mortality_df['year'] = pd.to_datetime(mortality_df['year'], format='%Y').dt.year"
   ]
  },
  {
   "cell_type": "code",
   "execution_count": 15,
   "metadata": {},
   "outputs": [
    {
     "name": "stdout",
     "output_type": "stream",
     "text": [
      "<class 'pandas.core.frame.DataFrame'>\n",
      "RangeIndex: 464 entries, 0 to 463\n",
      "Data columns (total 3 columns):\n",
      "year          464 non-null int64\n",
      "age_group     464 non-null object\n",
      "death_rate    464 non-null float64\n",
      "dtypes: float64(1), int64(1), object(1)\n",
      "memory usage: 11.0+ KB\n"
     ]
    }
   ],
   "source": [
    "# Display info\n",
    "mortality_df.info()"
   ]
  },
  {
   "cell_type": "code",
   "execution_count": 16,
   "metadata": {},
   "outputs": [
    {
     "data": {
      "text/html": [
       "<div>\n",
       "<style scoped>\n",
       "    .dataframe tbody tr th:only-of-type {\n",
       "        vertical-align: middle;\n",
       "    }\n",
       "\n",
       "    .dataframe tbody tr th {\n",
       "        vertical-align: top;\n",
       "    }\n",
       "\n",
       "    .dataframe thead th {\n",
       "        text-align: right;\n",
       "    }\n",
       "</style>\n",
       "<table border=\"1\" class=\"dataframe\">\n",
       "  <thead>\n",
       "    <tr style=\"text-align: right;\">\n",
       "      <th></th>\n",
       "      <th>year</th>\n",
       "      <th>age_group</th>\n",
       "      <th>death_rate</th>\n",
       "    </tr>\n",
       "  </thead>\n",
       "  <tbody>\n",
       "    <tr>\n",
       "      <th>0</th>\n",
       "      <td>1900</td>\n",
       "      <td>10-14 years</td>\n",
       "      <td>298.3</td>\n",
       "    </tr>\n",
       "    <tr>\n",
       "      <th>1</th>\n",
       "      <td>1900</td>\n",
       "      <td>1-4 years</td>\n",
       "      <td>1983.8</td>\n",
       "    </tr>\n",
       "    <tr>\n",
       "      <th>2</th>\n",
       "      <td>1900</td>\n",
       "      <td>15-19 years</td>\n",
       "      <td>484.8</td>\n",
       "    </tr>\n",
       "    <tr>\n",
       "      <th>3</th>\n",
       "      <td>1900</td>\n",
       "      <td>5-9 years</td>\n",
       "      <td>466.1</td>\n",
       "    </tr>\n",
       "    <tr>\n",
       "      <th>4</th>\n",
       "      <td>1901</td>\n",
       "      <td>10-14 years</td>\n",
       "      <td>273.6</td>\n",
       "    </tr>\n",
       "  </tbody>\n",
       "</table>\n",
       "</div>"
      ],
      "text/plain": [
       "   year    age_group  death_rate\n",
       "0  1900  10-14 years       298.3\n",
       "1  1900    1-4 years      1983.8\n",
       "2  1900  15-19 years       484.8\n",
       "3  1900    5-9 years       466.1\n",
       "4  1901  10-14 years       273.6"
      ]
     },
     "execution_count": 16,
     "metadata": {},
     "output_type": "execute_result"
    }
   ],
   "source": [
    "# Display top 5 rows\n",
    "mortality_df.head()"
   ]
  },
  {
   "cell_type": "code",
   "execution_count": 17,
   "metadata": {},
   "outputs": [
    {
     "name": "stdout",
     "output_type": "stream",
     "text": [
      "Start Date: [1900 '10-14 years' 298.3]\n",
      "End Date  : [2015 '5-9 years' 11.7]\n"
     ]
    }
   ],
   "source": [
    "# Display date range\n",
    "print('Start Date:', mortality_df.iloc[0].values)\n",
    "print('End Date  :', mortality_df.iloc[-1].values)"
   ]
  },
  {
   "cell_type": "code",
   "execution_count": 18,
   "metadata": {},
   "outputs": [
    {
     "name": "stdout",
     "output_type": "stream",
     "text": [
      "Lowest death_rate :\n",
      " year               2012\n",
      "age_group     5-9 years\n",
      "death_rate         11.4\n",
      "Name: 451, dtype: object\n",
      "\n",
      "Highest death_rate:\n",
      " year               1900\n",
      "age_group     1-4 years\n",
      "death_rate       1983.8\n",
      "Name: 1, dtype: object\n"
     ]
    }
   ],
   "source": [
    "# Display mortality range\n",
    "print('Lowest death_rate :\\n', mortality_df.iloc[mortality_df['death_rate'].idxmin()])\n",
    "print('\\nHighest death_rate:\\n', mortality_df.iloc[mortality_df['death_rate'].idxmax()])"
   ]
  },
  {
   "cell_type": "markdown",
   "metadata": {},
   "source": [
    "# Wrangle Data"
   ]
  },
  {
   "cell_type": "markdown",
   "metadata": {},
   "source": [
    "The goal is to wrangle the dataframes into a single [tidy](https://cran.r-project.org/web/packages/tidyr/vignettes/tidy-data.html) dataframe. The figure below illustrates the process.\n",
    "\n",
    "<img src=\"../images/wrangle_data_process.png\">\n",
    "\n",
    "Here are more information about [spreading](https://d33wubrfki0l68.cloudfront.net/3aea19108d39606bbe49981acda07696c0c7fcd8/2de65/images/tidy-9.png) and [aggregating](https://news.codecademy.com/aggregating-pokemon-data-python-pandas/) data."
   ]
  },
  {
   "cell_type": "markdown",
   "metadata": {},
   "source": [
    "### Aggregate unemployment date by year"
   ]
  },
  {
   "cell_type": "code",
   "execution_count": 19,
   "metadata": {},
   "outputs": [],
   "source": [
    "# Aggregate data based on yearly average\n",
    "tidy_unemployment_df = unemployment_df.groupby([unemployment_df['date'].dt.year]).mean().reset_index()\n",
    "tidy_unemployment_df.rename({\n",
    "    'date': 'year', \n",
    "    'unemployment_rate': 'average_unemployment_rate'\n",
    "}, axis='columns', inplace=True)"
   ]
  },
  {
   "cell_type": "code",
   "execution_count": 20,
   "metadata": {},
   "outputs": [
    {
     "data": {
      "text/html": [
       "<div>\n",
       "<style scoped>\n",
       "    .dataframe tbody tr th:only-of-type {\n",
       "        vertical-align: middle;\n",
       "    }\n",
       "\n",
       "    .dataframe tbody tr th {\n",
       "        vertical-align: top;\n",
       "    }\n",
       "\n",
       "    .dataframe thead th {\n",
       "        text-align: right;\n",
       "    }\n",
       "</style>\n",
       "<table border=\"1\" class=\"dataframe\">\n",
       "  <thead>\n",
       "    <tr style=\"text-align: right;\">\n",
       "      <th></th>\n",
       "      <th>year</th>\n",
       "      <th>average_unemployment_rate</th>\n",
       "    </tr>\n",
       "  </thead>\n",
       "  <tbody>\n",
       "    <tr>\n",
       "      <th>0</th>\n",
       "      <td>1948</td>\n",
       "      <td>3.750000</td>\n",
       "    </tr>\n",
       "    <tr>\n",
       "      <th>1</th>\n",
       "      <td>1949</td>\n",
       "      <td>6.050000</td>\n",
       "    </tr>\n",
       "    <tr>\n",
       "      <th>2</th>\n",
       "      <td>1950</td>\n",
       "      <td>5.208333</td>\n",
       "    </tr>\n",
       "    <tr>\n",
       "      <th>3</th>\n",
       "      <td>1951</td>\n",
       "      <td>3.283333</td>\n",
       "    </tr>\n",
       "    <tr>\n",
       "      <th>4</th>\n",
       "      <td>1952</td>\n",
       "      <td>3.025000</td>\n",
       "    </tr>\n",
       "  </tbody>\n",
       "</table>\n",
       "</div>"
      ],
      "text/plain": [
       "   year  average_unemployment_rate\n",
       "0  1948                   3.750000\n",
       "1  1949                   6.050000\n",
       "2  1950                   5.208333\n",
       "3  1951                   3.283333\n",
       "4  1952                   3.025000"
      ]
     },
     "execution_count": 20,
     "metadata": {},
     "output_type": "execute_result"
    }
   ],
   "source": [
    "# Display head of aggregated unemployement data\n",
    "tidy_unemployment_df.head()"
   ]
  },
  {
   "cell_type": "markdown",
   "metadata": {},
   "source": [
    "### Spread mortality_df based on age_group"
   ]
  },
  {
   "cell_type": "code",
   "execution_count": 21,
   "metadata": {},
   "outputs": [],
   "source": [
    "# Spread mortality_df based on age_group\n",
    "tidy_mortality_df = mortality_df.pivot(index='year',columns='age_group',values='death_rate').reset_index()\n",
    "tidy_mortality_df.rename({\n",
    "    '1-4 years': '1_4_years',\n",
    "    '5-9 years': '5_9_years',\n",
    "    '10-14 years': '10_14_years',\n",
    "    '15-19 years': '15_19_years',\n",
    "}, axis='columns', inplace=True)"
   ]
  },
  {
   "cell_type": "code",
   "execution_count": 22,
   "metadata": {},
   "outputs": [
    {
     "data": {
      "text/html": [
       "<div>\n",
       "<style scoped>\n",
       "    .dataframe tbody tr th:only-of-type {\n",
       "        vertical-align: middle;\n",
       "    }\n",
       "\n",
       "    .dataframe tbody tr th {\n",
       "        vertical-align: top;\n",
       "    }\n",
       "\n",
       "    .dataframe thead th {\n",
       "        text-align: right;\n",
       "    }\n",
       "</style>\n",
       "<table border=\"1\" class=\"dataframe\">\n",
       "  <thead>\n",
       "    <tr style=\"text-align: right;\">\n",
       "      <th>age_group</th>\n",
       "      <th>year</th>\n",
       "      <th>1_4_years</th>\n",
       "      <th>10_14_years</th>\n",
       "      <th>15_19_years</th>\n",
       "      <th>5_9_years</th>\n",
       "    </tr>\n",
       "  </thead>\n",
       "  <tbody>\n",
       "    <tr>\n",
       "      <th>0</th>\n",
       "      <td>1900</td>\n",
       "      <td>1983.8</td>\n",
       "      <td>298.3</td>\n",
       "      <td>484.8</td>\n",
       "      <td>466.1</td>\n",
       "    </tr>\n",
       "    <tr>\n",
       "      <th>1</th>\n",
       "      <td>1901</td>\n",
       "      <td>1695.0</td>\n",
       "      <td>273.6</td>\n",
       "      <td>454.4</td>\n",
       "      <td>427.6</td>\n",
       "    </tr>\n",
       "    <tr>\n",
       "      <th>2</th>\n",
       "      <td>1902</td>\n",
       "      <td>1655.7</td>\n",
       "      <td>252.5</td>\n",
       "      <td>421.5</td>\n",
       "      <td>403.3</td>\n",
       "    </tr>\n",
       "    <tr>\n",
       "      <th>3</th>\n",
       "      <td>1903</td>\n",
       "      <td>1542.1</td>\n",
       "      <td>268.2</td>\n",
       "      <td>434.1</td>\n",
       "      <td>414.7</td>\n",
       "    </tr>\n",
       "    <tr>\n",
       "      <th>4</th>\n",
       "      <td>1904</td>\n",
       "      <td>1591.5</td>\n",
       "      <td>305.2</td>\n",
       "      <td>471.4</td>\n",
       "      <td>425.0</td>\n",
       "    </tr>\n",
       "  </tbody>\n",
       "</table>\n",
       "</div>"
      ],
      "text/plain": [
       "age_group  year  1_4_years  10_14_years  15_19_years  5_9_years\n",
       "0          1900     1983.8        298.3        484.8      466.1\n",
       "1          1901     1695.0        273.6        454.4      427.6\n",
       "2          1902     1655.7        252.5        421.5      403.3\n",
       "3          1903     1542.1        268.2        434.1      414.7\n",
       "4          1904     1591.5        305.2        471.4      425.0"
      ]
     },
     "execution_count": 22,
     "metadata": {},
     "output_type": "execute_result"
    }
   ],
   "source": [
    "# Display head of mortality data\n",
    "tidy_mortality_df.head()"
   ]
  },
  {
   "cell_type": "markdown",
   "metadata": {},
   "source": [
    "### Join unemployement data, mortality data, and birth data by year"
   ]
  },
  {
   "cell_type": "code",
   "execution_count": 23,
   "metadata": {},
   "outputs": [],
   "source": [
    "# Join unemployement data and birth data by year\n",
    "tidy_warehouse_df = tidy_unemployment_df.merge(right=birth_df, on='year', how='inner')\n",
    "\n",
    "# Join mortality dataand other data by year\n",
    "tidy_warehouse_df = tidy_mortality_df.merge(right=tidy_warehouse_df, on='year', how='inner')"
   ]
  },
  {
   "cell_type": "code",
   "execution_count": 24,
   "metadata": {},
   "outputs": [
    {
     "name": "stdout",
     "output_type": "stream",
     "text": [
      "<class 'pandas.core.frame.DataFrame'>\n",
      "Int64Index: 68 entries, 0 to 67\n",
      "Data columns (total 9 columns):\n",
      "year                         68 non-null int64\n",
      "1_4_years                    68 non-null float64\n",
      "10_14_years                  68 non-null float64\n",
      "15_19_years                  68 non-null float64\n",
      "5_9_years                    68 non-null float64\n",
      "average_unemployment_rate    68 non-null float64\n",
      "number_of_births             68 non-null int64\n",
      "general_fertility_rate       68 non-null float64\n",
      "crude_birth_rate             68 non-null float64\n",
      "dtypes: float64(7), int64(2)\n",
      "memory usage: 5.3 KB\n"
     ]
    }
   ],
   "source": [
    "# Display info\n",
    "tidy_warehouse_df.info()"
   ]
  },
  {
   "cell_type": "code",
   "execution_count": 25,
   "metadata": {},
   "outputs": [
    {
     "data": {
      "text/html": [
       "<div>\n",
       "<style scoped>\n",
       "    .dataframe tbody tr th:only-of-type {\n",
       "        vertical-align: middle;\n",
       "    }\n",
       "\n",
       "    .dataframe tbody tr th {\n",
       "        vertical-align: top;\n",
       "    }\n",
       "\n",
       "    .dataframe thead th {\n",
       "        text-align: right;\n",
       "    }\n",
       "</style>\n",
       "<table border=\"1\" class=\"dataframe\">\n",
       "  <thead>\n",
       "    <tr style=\"text-align: right;\">\n",
       "      <th></th>\n",
       "      <th>year</th>\n",
       "      <th>1_4_years</th>\n",
       "      <th>10_14_years</th>\n",
       "      <th>15_19_years</th>\n",
       "      <th>5_9_years</th>\n",
       "      <th>average_unemployment_rate</th>\n",
       "      <th>number_of_births</th>\n",
       "      <th>general_fertility_rate</th>\n",
       "      <th>crude_birth_rate</th>\n",
       "    </tr>\n",
       "  </thead>\n",
       "  <tbody>\n",
       "    <tr>\n",
       "      <th>0</th>\n",
       "      <td>1948</td>\n",
       "      <td>160.1</td>\n",
       "      <td>65.6</td>\n",
       "      <td>118.7</td>\n",
       "      <td>70.6</td>\n",
       "      <td>3.750000</td>\n",
       "      <td>3637000</td>\n",
       "      <td>107.3</td>\n",
       "      <td>24.9</td>\n",
       "    </tr>\n",
       "    <tr>\n",
       "      <th>1</th>\n",
       "      <td>1949</td>\n",
       "      <td>150.2</td>\n",
       "      <td>63.6</td>\n",
       "      <td>111.8</td>\n",
       "      <td>68.2</td>\n",
       "      <td>6.050000</td>\n",
       "      <td>3649000</td>\n",
       "      <td>107.1</td>\n",
       "      <td>24.5</td>\n",
       "    </tr>\n",
       "    <tr>\n",
       "      <th>2</th>\n",
       "      <td>1950</td>\n",
       "      <td>139.4</td>\n",
       "      <td>58.1</td>\n",
       "      <td>108.6</td>\n",
       "      <td>61.7</td>\n",
       "      <td>5.208333</td>\n",
       "      <td>3632000</td>\n",
       "      <td>106.2</td>\n",
       "      <td>24.1</td>\n",
       "    </tr>\n",
       "    <tr>\n",
       "      <th>3</th>\n",
       "      <td>1951</td>\n",
       "      <td>136.9</td>\n",
       "      <td>56.4</td>\n",
       "      <td>108.9</td>\n",
       "      <td>61.7</td>\n",
       "      <td>3.283333</td>\n",
       "      <td>3820000</td>\n",
       "      <td>111.5</td>\n",
       "      <td>24.9</td>\n",
       "    </tr>\n",
       "    <tr>\n",
       "      <th>4</th>\n",
       "      <td>1952</td>\n",
       "      <td>141.1</td>\n",
       "      <td>56.8</td>\n",
       "      <td>114.4</td>\n",
       "      <td>61.3</td>\n",
       "      <td>3.025000</td>\n",
       "      <td>3909000</td>\n",
       "      <td>113.9</td>\n",
       "      <td>25.1</td>\n",
       "    </tr>\n",
       "  </tbody>\n",
       "</table>\n",
       "</div>"
      ],
      "text/plain": [
       "   year  1_4_years  10_14_years  15_19_years  5_9_years  \\\n",
       "0  1948      160.1         65.6        118.7       70.6   \n",
       "1  1949      150.2         63.6        111.8       68.2   \n",
       "2  1950      139.4         58.1        108.6       61.7   \n",
       "3  1951      136.9         56.4        108.9       61.7   \n",
       "4  1952      141.1         56.8        114.4       61.3   \n",
       "\n",
       "   average_unemployment_rate  number_of_births  general_fertility_rate  \\\n",
       "0                   3.750000           3637000                   107.3   \n",
       "1                   6.050000           3649000                   107.1   \n",
       "2                   5.208333           3632000                   106.2   \n",
       "3                   3.283333           3820000                   111.5   \n",
       "4                   3.025000           3909000                   113.9   \n",
       "\n",
       "   crude_birth_rate  \n",
       "0              24.9  \n",
       "1              24.5  \n",
       "2              24.1  \n",
       "3              24.9  \n",
       "4              25.1  "
      ]
     },
     "execution_count": 25,
     "metadata": {},
     "output_type": "execute_result"
    }
   ],
   "source": [
    "# Display top 5 rows\n",
    "tidy_warehouse_df.head()"
   ]
  },
  {
   "cell_type": "markdown",
   "metadata": {},
   "source": [
    "# Save Data Warehouse"
   ]
  },
  {
   "cell_type": "markdown",
   "metadata": {},
   "source": [
    "The merged tidy dataframe (tidy_warehouse_df) will be saved to the tidy_data folder."
   ]
  },
  {
   "cell_type": "code",
   "execution_count": 26,
   "metadata": {},
   "outputs": [],
   "source": [
    "tidy_warehouse_df.to_csv('../tidy_data/tidy_warehouse.csv', index=False)"
   ]
  }
 ],
 "metadata": {
  "kernelspec": {
   "display_name": "Python 3",
   "language": "python",
   "name": "python3"
  },
  "language_info": {
   "codemirror_mode": {
    "name": "ipython",
    "version": 3
   },
   "file_extension": ".py",
   "mimetype": "text/x-python",
   "name": "python",
   "nbconvert_exporter": "python",
   "pygments_lexer": "ipython3",
   "version": "3.6.6"
  }
 },
 "nbformat": 4,
 "nbformat_minor": 2
}
